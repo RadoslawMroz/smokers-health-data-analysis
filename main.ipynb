{
 "cells": [
  {
   "cell_type": "code",
   "execution_count": 55,
   "id": "efb98bee-da8d-42e7-8ee9-c9e62b2000c4",
   "metadata": {},
   "outputs": [],
   "source": [
    "import pandas as pd\n",
    "import matplotlib.pyplot as plt\n",
    "import seaborn as sns\n",
    "sns.set()"
   ]
  },
  {
   "cell_type": "code",
   "execution_count": 56,
   "id": "db500090-2f32-4c0f-bdb1-5614eb3532dc",
   "metadata": {},
   "outputs": [
    {
     "data": {
      "text/html": [
       "<div>\n",
       "<style scoped>\n",
       "    .dataframe tbody tr th:only-of-type {\n",
       "        vertical-align: middle;\n",
       "    }\n",
       "\n",
       "    .dataframe tbody tr th {\n",
       "        vertical-align: top;\n",
       "    }\n",
       "\n",
       "    .dataframe thead th {\n",
       "        text-align: right;\n",
       "    }\n",
       "</style>\n",
       "<table border=\"1\" class=\"dataframe\">\n",
       "  <thead>\n",
       "    <tr style=\"text-align: right;\">\n",
       "      <th></th>\n",
       "      <th>age</th>\n",
       "      <th>sex</th>\n",
       "      <th>current_smoker</th>\n",
       "      <th>heart_rate</th>\n",
       "      <th>blood_pressure</th>\n",
       "      <th>cigs_per_day</th>\n",
       "      <th>chol</th>\n",
       "    </tr>\n",
       "  </thead>\n",
       "  <tbody>\n",
       "    <tr>\n",
       "      <th>0</th>\n",
       "      <td>54</td>\n",
       "      <td>male</td>\n",
       "      <td>yes</td>\n",
       "      <td>95</td>\n",
       "      <td>110/72</td>\n",
       "      <td>NaN</td>\n",
       "      <td>219.0</td>\n",
       "    </tr>\n",
       "    <tr>\n",
       "      <th>1</th>\n",
       "      <td>45</td>\n",
       "      <td>male</td>\n",
       "      <td>yes</td>\n",
       "      <td>64</td>\n",
       "      <td>121/72</td>\n",
       "      <td>NaN</td>\n",
       "      <td>248.0</td>\n",
       "    </tr>\n",
       "    <tr>\n",
       "      <th>2</th>\n",
       "      <td>58</td>\n",
       "      <td>male</td>\n",
       "      <td>yes</td>\n",
       "      <td>81</td>\n",
       "      <td>127.5/76</td>\n",
       "      <td>NaN</td>\n",
       "      <td>235.0</td>\n",
       "    </tr>\n",
       "    <tr>\n",
       "      <th>3</th>\n",
       "      <td>42</td>\n",
       "      <td>male</td>\n",
       "      <td>yes</td>\n",
       "      <td>90</td>\n",
       "      <td>122.5/80</td>\n",
       "      <td>NaN</td>\n",
       "      <td>225.0</td>\n",
       "    </tr>\n",
       "    <tr>\n",
       "      <th>4</th>\n",
       "      <td>42</td>\n",
       "      <td>male</td>\n",
       "      <td>yes</td>\n",
       "      <td>62</td>\n",
       "      <td>119/80</td>\n",
       "      <td>NaN</td>\n",
       "      <td>226.0</td>\n",
       "    </tr>\n",
       "  </tbody>\n",
       "</table>\n",
       "</div>"
      ],
      "text/plain": [
       "   age   sex current_smoker  heart_rate blood_pressure  cigs_per_day   chol\n",
       "0   54  male            yes          95         110/72           NaN  219.0\n",
       "1   45  male            yes          64         121/72           NaN  248.0\n",
       "2   58  male            yes          81       127.5/76           NaN  235.0\n",
       "3   42  male            yes          90       122.5/80           NaN  225.0\n",
       "4   42  male            yes          62         119/80           NaN  226.0"
      ]
     },
     "execution_count": 56,
     "metadata": {},
     "output_type": "execute_result"
    }
   ],
   "source": [
    "data = pd.read_csv('smoking_health_data_final.csv')\n",
    "data.head()"
   ]
  },
  {
   "cell_type": "code",
   "execution_count": 57,
   "id": "7bcf11c0-3974-402a-81c2-a3f98fefbf8e",
   "metadata": {},
   "outputs": [
    {
     "data": {
      "text/html": [
       "<div>\n",
       "<style scoped>\n",
       "    .dataframe tbody tr th:only-of-type {\n",
       "        vertical-align: middle;\n",
       "    }\n",
       "\n",
       "    .dataframe tbody tr th {\n",
       "        vertical-align: top;\n",
       "    }\n",
       "\n",
       "    .dataframe thead th {\n",
       "        text-align: right;\n",
       "    }\n",
       "</style>\n",
       "<table border=\"1\" class=\"dataframe\">\n",
       "  <thead>\n",
       "    <tr style=\"text-align: right;\">\n",
       "      <th></th>\n",
       "      <th>age</th>\n",
       "      <th>sex</th>\n",
       "      <th>current_smoker</th>\n",
       "      <th>heart_rate</th>\n",
       "      <th>cigs_per_day</th>\n",
       "      <th>chol</th>\n",
       "      <th>blood_pressure_1</th>\n",
       "      <th>blood_pressure_0</th>\n",
       "    </tr>\n",
       "  </thead>\n",
       "  <tbody>\n",
       "    <tr>\n",
       "      <th>0</th>\n",
       "      <td>54</td>\n",
       "      <td>male</td>\n",
       "      <td>yes</td>\n",
       "      <td>95</td>\n",
       "      <td>NaN</td>\n",
       "      <td>219.0</td>\n",
       "      <td>110</td>\n",
       "      <td>72</td>\n",
       "    </tr>\n",
       "    <tr>\n",
       "      <th>1</th>\n",
       "      <td>45</td>\n",
       "      <td>male</td>\n",
       "      <td>yes</td>\n",
       "      <td>64</td>\n",
       "      <td>NaN</td>\n",
       "      <td>248.0</td>\n",
       "      <td>121</td>\n",
       "      <td>72</td>\n",
       "    </tr>\n",
       "  </tbody>\n",
       "</table>\n",
       "</div>"
      ],
      "text/plain": [
       "   age   sex current_smoker  heart_rate  cigs_per_day   chol blood_pressure_1  \\\n",
       "0   54  male            yes          95           NaN  219.0              110   \n",
       "1   45  male            yes          64           NaN  248.0              121   \n",
       "\n",
       "  blood_pressure_0  \n",
       "0               72  \n",
       "1               72  "
      ]
     },
     "execution_count": 57,
     "metadata": {},
     "output_type": "execute_result"
    }
   ],
   "source": [
    "data[['blood_pressure_1','blood_pressure_0']] = data['blood_pressure'].str.split('/',expand=True)\n",
    "data = data.drop(['blood_pressure'], axis=1)\n",
    "data.head(2)"
   ]
  },
  {
   "cell_type": "code",
   "execution_count": 64,
   "id": "2281da63-e096-445a-bbc0-cf8aa370e09c",
   "metadata": {},
   "outputs": [
    {
     "data": {
      "text/html": [
       "<div>\n",
       "<style scoped>\n",
       "    .dataframe tbody tr th:only-of-type {\n",
       "        vertical-align: middle;\n",
       "    }\n",
       "\n",
       "    .dataframe tbody tr th {\n",
       "        vertical-align: top;\n",
       "    }\n",
       "\n",
       "    .dataframe thead th {\n",
       "        text-align: right;\n",
       "    }\n",
       "</style>\n",
       "<table border=\"1\" class=\"dataframe\">\n",
       "  <thead>\n",
       "    <tr style=\"text-align: right;\">\n",
       "      <th></th>\n",
       "      <th>age</th>\n",
       "      <th>sex</th>\n",
       "      <th>current_smoker</th>\n",
       "      <th>heart_rate</th>\n",
       "      <th>cigs_per_day</th>\n",
       "      <th>chol</th>\n",
       "      <th>blood_pressure_1</th>\n",
       "      <th>blood_pressure_0</th>\n",
       "    </tr>\n",
       "  </thead>\n",
       "  <tbody>\n",
       "    <tr>\n",
       "      <th>0</th>\n",
       "      <td>54</td>\n",
       "      <td>male</td>\n",
       "      <td>yes</td>\n",
       "      <td>95</td>\n",
       "      <td>0.0</td>\n",
       "      <td>219.0</td>\n",
       "      <td>110</td>\n",
       "      <td>72</td>\n",
       "    </tr>\n",
       "    <tr>\n",
       "      <th>1</th>\n",
       "      <td>45</td>\n",
       "      <td>male</td>\n",
       "      <td>yes</td>\n",
       "      <td>64</td>\n",
       "      <td>0.0</td>\n",
       "      <td>248.0</td>\n",
       "      <td>121</td>\n",
       "      <td>72</td>\n",
       "    </tr>\n",
       "  </tbody>\n",
       "</table>\n",
       "</div>"
      ],
      "text/plain": [
       "   age   sex current_smoker  heart_rate  cigs_per_day   chol blood_pressure_1  \\\n",
       "0   54  male            yes          95           0.0  219.0              110   \n",
       "1   45  male            yes          64           0.0  248.0              121   \n",
       "\n",
       "  blood_pressure_0  \n",
       "0               72  \n",
       "1               72  "
      ]
     },
     "execution_count": 64,
     "metadata": {},
     "output_type": "execute_result"
    }
   ],
   "source": [
    "data['cigs_per_day'].fillna(0)\n",
    "data.head(2)"
   ]
  },
  {
   "cell_type": "code",
   "execution_count": 68,
   "id": "e76c5eac-d3b6-44b1-970b-8e020ff99048",
   "metadata": {},
   "outputs": [
    {
     "data": {
      "text/html": [
       "<div>\n",
       "<style scoped>\n",
       "    .dataframe tbody tr th:only-of-type {\n",
       "        vertical-align: middle;\n",
       "    }\n",
       "\n",
       "    .dataframe tbody tr th {\n",
       "        vertical-align: top;\n",
       "    }\n",
       "\n",
       "    .dataframe thead th {\n",
       "        text-align: right;\n",
       "    }\n",
       "</style>\n",
       "<table border=\"1\" class=\"dataframe\">\n",
       "  <thead>\n",
       "    <tr style=\"text-align: right;\">\n",
       "      <th></th>\n",
       "      <th>age</th>\n",
       "      <th>sex</th>\n",
       "      <th>current_smoker</th>\n",
       "      <th>heart_rate</th>\n",
       "      <th>cigs_per_day</th>\n",
       "      <th>chol</th>\n",
       "      <th>blood_pressure_1</th>\n",
       "      <th>blood_pressure_0</th>\n",
       "    </tr>\n",
       "  </thead>\n",
       "  <tbody>\n",
       "    <tr>\n",
       "      <th>count</th>\n",
       "      <td>3900.000000</td>\n",
       "      <td>3900</td>\n",
       "      <td>3900</td>\n",
       "      <td>3900.000000</td>\n",
       "      <td>3900.000000</td>\n",
       "      <td>3893.000000</td>\n",
       "      <td>3900</td>\n",
       "      <td>3900</td>\n",
       "    </tr>\n",
       "    <tr>\n",
       "      <th>unique</th>\n",
       "      <td>NaN</td>\n",
       "      <td>2</td>\n",
       "      <td>2</td>\n",
       "      <td>NaN</td>\n",
       "      <td>NaN</td>\n",
       "      <td>NaN</td>\n",
       "      <td>232</td>\n",
       "      <td>144</td>\n",
       "    </tr>\n",
       "    <tr>\n",
       "      <th>top</th>\n",
       "      <td>NaN</td>\n",
       "      <td>female</td>\n",
       "      <td>no</td>\n",
       "      <td>NaN</td>\n",
       "      <td>NaN</td>\n",
       "      <td>NaN</td>\n",
       "      <td>130</td>\n",
       "      <td>80</td>\n",
       "    </tr>\n",
       "    <tr>\n",
       "      <th>freq</th>\n",
       "      <td>NaN</td>\n",
       "      <td>2081</td>\n",
       "      <td>1968</td>\n",
       "      <td>NaN</td>\n",
       "      <td>NaN</td>\n",
       "      <td>NaN</td>\n",
       "      <td>96</td>\n",
       "      <td>238</td>\n",
       "    </tr>\n",
       "    <tr>\n",
       "      <th>mean</th>\n",
       "      <td>49.537949</td>\n",
       "      <td>NaN</td>\n",
       "      <td>NaN</td>\n",
       "      <td>75.688974</td>\n",
       "      <td>9.135641</td>\n",
       "      <td>236.595941</td>\n",
       "      <td>NaN</td>\n",
       "      <td>NaN</td>\n",
       "    </tr>\n",
       "    <tr>\n",
       "      <th>std</th>\n",
       "      <td>8.559275</td>\n",
       "      <td>NaN</td>\n",
       "      <td>NaN</td>\n",
       "      <td>12.015376</td>\n",
       "      <td>12.028875</td>\n",
       "      <td>44.375365</td>\n",
       "      <td>NaN</td>\n",
       "      <td>NaN</td>\n",
       "    </tr>\n",
       "    <tr>\n",
       "      <th>min</th>\n",
       "      <td>32.000000</td>\n",
       "      <td>NaN</td>\n",
       "      <td>NaN</td>\n",
       "      <td>44.000000</td>\n",
       "      <td>0.000000</td>\n",
       "      <td>113.000000</td>\n",
       "      <td>NaN</td>\n",
       "      <td>NaN</td>\n",
       "    </tr>\n",
       "    <tr>\n",
       "      <th>25%</th>\n",
       "      <td>42.000000</td>\n",
       "      <td>NaN</td>\n",
       "      <td>NaN</td>\n",
       "      <td>68.000000</td>\n",
       "      <td>0.000000</td>\n",
       "      <td>206.000000</td>\n",
       "      <td>NaN</td>\n",
       "      <td>NaN</td>\n",
       "    </tr>\n",
       "    <tr>\n",
       "      <th>50%</th>\n",
       "      <td>49.000000</td>\n",
       "      <td>NaN</td>\n",
       "      <td>NaN</td>\n",
       "      <td>75.000000</td>\n",
       "      <td>0.000000</td>\n",
       "      <td>234.000000</td>\n",
       "      <td>NaN</td>\n",
       "      <td>NaN</td>\n",
       "    </tr>\n",
       "    <tr>\n",
       "      <th>75%</th>\n",
       "      <td>56.000000</td>\n",
       "      <td>NaN</td>\n",
       "      <td>NaN</td>\n",
       "      <td>82.000000</td>\n",
       "      <td>20.000000</td>\n",
       "      <td>263.000000</td>\n",
       "      <td>NaN</td>\n",
       "      <td>NaN</td>\n",
       "    </tr>\n",
       "    <tr>\n",
       "      <th>max</th>\n",
       "      <td>70.000000</td>\n",
       "      <td>NaN</td>\n",
       "      <td>NaN</td>\n",
       "      <td>143.000000</td>\n",
       "      <td>70.000000</td>\n",
       "      <td>696.000000</td>\n",
       "      <td>NaN</td>\n",
       "      <td>NaN</td>\n",
       "    </tr>\n",
       "  </tbody>\n",
       "</table>\n",
       "</div>"
      ],
      "text/plain": [
       "                age     sex current_smoker   heart_rate  cigs_per_day  \\\n",
       "count   3900.000000    3900           3900  3900.000000   3900.000000   \n",
       "unique          NaN       2              2          NaN           NaN   \n",
       "top             NaN  female             no          NaN           NaN   \n",
       "freq            NaN    2081           1968          NaN           NaN   \n",
       "mean      49.537949     NaN            NaN    75.688974      9.135641   \n",
       "std        8.559275     NaN            NaN    12.015376     12.028875   \n",
       "min       32.000000     NaN            NaN    44.000000      0.000000   \n",
       "25%       42.000000     NaN            NaN    68.000000      0.000000   \n",
       "50%       49.000000     NaN            NaN    75.000000      0.000000   \n",
       "75%       56.000000     NaN            NaN    82.000000     20.000000   \n",
       "max       70.000000     NaN            NaN   143.000000     70.000000   \n",
       "\n",
       "               chol blood_pressure_1 blood_pressure_0  \n",
       "count   3893.000000             3900             3900  \n",
       "unique          NaN              232              144  \n",
       "top             NaN              130               80  \n",
       "freq            NaN               96              238  \n",
       "mean     236.595941              NaN              NaN  \n",
       "std       44.375365              NaN              NaN  \n",
       "min      113.000000              NaN              NaN  \n",
       "25%      206.000000              NaN              NaN  \n",
       "50%      234.000000              NaN              NaN  \n",
       "75%      263.000000              NaN              NaN  \n",
       "max      696.000000              NaN              NaN  "
      ]
     },
     "execution_count": 68,
     "metadata": {},
     "output_type": "execute_result"
    }
   ],
   "source": [
    "data.describe(include='all')"
   ]
  },
  {
   "cell_type": "code",
   "execution_count": 70,
   "id": "9d74f825-408a-4b23-a4d4-c06e9a551e23",
   "metadata": {},
   "outputs": [
    {
     "data": {
      "text/plain": [
       "array(['yes', 'no'], dtype=object)"
      ]
     },
     "execution_count": 70,
     "metadata": {},
     "output_type": "execute_result"
    }
   ],
   "source": [
    "data['current_smoker'].unique()"
   ]
  },
  {
   "cell_type": "code",
   "execution_count": 117,
   "id": "7af2bf64-ef1f-484b-a90e-c6539cb974d7",
   "metadata": {},
   "outputs": [
    {
     "data": {
      "text/plain": [
       "1932.0"
      ]
     },
     "execution_count": 117,
     "metadata": {},
     "output_type": "execute_result"
    }
   ],
   "source": [
    "smokers_counted = (data['current_smoker'] == 'yes').sum()\n",
    "smokers_counted = float(smokers_counted)\n",
    "smokers_counted"
   ]
  },
  {
   "cell_type": "code",
   "execution_count": 118,
   "id": "3aadceb1-dfb6-46a5-99a9-cbe5f9e894ba",
   "metadata": {},
   "outputs": [
    {
     "data": {
      "text/plain": [
       "1968.0"
      ]
     },
     "execution_count": 118,
     "metadata": {},
     "output_type": "execute_result"
    }
   ],
   "source": [
    "non_smokers_counted = (data['current_smoker'] == 'no').sum()\n",
    "non_smokers_counted = float(non_smokers_counted)\n",
    "non_smokers_counted"
   ]
  },
  {
   "cell_type": "code",
   "execution_count": 119,
   "id": "54ab4370-ab38-40f6-a09f-c1fbad2b18f6",
   "metadata": {},
   "outputs": [
    {
     "data": {
      "text/plain": [
       "3900.0"
      ]
     },
     "execution_count": 119,
     "metadata": {},
     "output_type": "execute_result"
    }
   ],
   "source": [
    "all_people = smokers_counted + non_smokers_counted\n",
    "all_people"
   ]
  },
  {
   "cell_type": "code",
   "execution_count": 121,
   "id": "b77dd794-bca6-48d7-b85a-c98907c3af0c",
   "metadata": {},
   "outputs": [
    {
     "name": "stdout",
     "output_type": "stream",
     "text": [
      "49.53846153846154 50.46153846153846\n"
     ]
    }
   ],
   "source": [
    "smokers_percentage = smokers_counted/all_people*100\n",
    "non_smokers_percentage = non_smokers_counted/all_people*100\n",
    "print(smokers_percentage, non_smokers_percentage)"
   ]
  },
  {
   "cell_type": "code",
   "execution_count": 126,
   "id": "eae154e8-d873-4798-963d-93eafb5080b4",
   "metadata": {},
   "outputs": [
    {
     "data": {
      "text/plain": [
       "([<matplotlib.patches.Wedge at 0x260bd0809d0>,\n",
       "  <matplotlib.patches.Wedge at 0x260bcf88590>],\n",
       " [Text(0.01594910561296523, 1.0998843693907767, 'smokers_percentage'),\n",
       "  Text(-0.01594900263435894, -1.099884370884035, 'non_smokers_percentage')])"
      ]
     },
     "execution_count": 126,
     "metadata": {},
     "output_type": "execute_result"
    },
    {
     "data": {
      "image/png": "[encoded data removed]",
      "text/plain": [
       "<Figure size 640x480 with 1 Axes>"
      ]
     },
     "metadata": {},
     "output_type": "display_data"
    }
   ],
   "source": [
    "plt.pie([smokers_percentage, non_smokers_percentage], labels=['smokers_percentage','non_smokers_percentage'], colors=['red','green'])"
   ]
  },
  {
   "cell_type": "code",
   "execution_count": null,
   "id": "ae929ca6-c199-4885-a8c8-f5042519a21c",
   "metadata": {},
   "outputs": [],
   "source": []
  }
 ],
 "metadata": {
  "kernelspec": {
   "display_name": "Python 3 (ipykernel)",
   "language": "python",
   "name": "python3"
  },
  "language_info": {
   "codemirror_mode": {
    "name": "ipython",
    "version": 3
   },
   "file_extension": ".py",
   "mimetype": "text/x-python",
   "name": "python",
   "nbconvert_exporter": "python",
   "pygments_lexer": "ipython3",
   "version": "3.11.2"
  }
 },
 "nbformat": 4,
 "nbformat_minor": 5
}
